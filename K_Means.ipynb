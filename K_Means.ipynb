{
  "cells": [
    {
      "cell_type": "markdown",
      "metadata": {
        "id": "HM6SIAZHwgnj"
      },
      "source": [
        "Import all the needed libraries"
      ]
    },
    {
      "cell_type": "code",
      "execution_count": null,
      "metadata": {
        "id": "-QqP3CzQMA7-"
      },
      "outputs": [],
      "source": [
        "from sklearn import datasets\n",
        "from keras.datasets import mnist\n",
        "from matplotlib import pyplot as plt\n",
        "from collections import Counter\n",
        "from math import sqrt\n",
        "from sklearn.cluster import KMeans\n",
        "import pandas as pd\n",
        "import numpy as np\n",
        "from scipy.stats import mode\n",
        "from sklearn.metrics import ConfusionMatrixDisplay\n",
        "from sklearn.metrics import (accuracy_score, silhouette_score, \n",
        "                             homogeneity_score, completeness_score, \n",
        "                             v_measure_score, adjusted_rand_score)"
      ]
    },
    {
      "cell_type": "markdown",
      "metadata": {
        "id": "iYY2OeOAwuYr"
      },
      "source": [
        "---\n",
        "\n",
        "# Get and Know the Data\n",
        "Get data (digits) from sklearn or MNSIT.\n",
        "\n",
        "Create a object for each different data sets, sothe information can be store equally no matter the data set."
      ]
    },
    {
      "cell_type": "code",
      "execution_count": null,
      "metadata": {
        "id": "CviabS8Fw0_C"
      },
      "outputs": [],
      "source": [
        "class Digits():\n",
        "    def __init__(self, data_set):\n",
        "        self.data_set = data_set\n",
        "        self.target = None\n",
        "        self.data = None\n",
        "        self.dimension = 0\n",
        "        self.get_data()\n",
        "\n",
        "    def get_data(self):\n",
        "        if self.data_set == \"MNIST\":\n",
        "            (x_train, y_train), (x_test, y_test) = mnist.load_data()\n",
        "            # Convert each image to a 1D array\n",
        "            self.data = x_train.reshape(x_train.shape[0], -1)\n",
        "            self.target = y_train\n",
        "\n",
        "        elif self.data_set == \"sklearn\":\n",
        "            info = datasets.load_digits()\n",
        "            self.data = info.data\n",
        "            self.target = info.target\n",
        "\n",
        "        self.dimension = int(sqrt(self.data.shape[1]))"
      ]
    },
    {
      "cell_type": "code",
      "execution_count": null,
      "metadata": {
        "id": "72iOb8q1MHhv"
      },
      "outputs": [],
      "source": [
        "digits = Digits(\"sklearn\")"
      ]
    },
    {
      "cell_type": "markdown",
      "metadata": {
        "id": "vkMuhMmlw60S"
      },
      "source": [
        "Know the given data"
      ]
    },
    {
      "cell_type": "code",
      "execution_count": null,
      "metadata": {
        "colab": {
          "base_uri": "https://localhost:8080/"
        },
        "id": "Hrzjp1amyelQ",
        "outputId": "618dfac5-40cc-4c14-e036-d13cc4e20564"
      },
      "outputs": [
        {
          "output_type": "stream",
          "name": "stdout",
          "text": [
            "Samples: 1797 \n",
            "Dimensions: 64\n",
            "It's a 8x8 image\n"
          ]
        }
      ],
      "source": [
        "n_samples = digits.data.shape[0]\n",
        "n_dimensions = digits.dimension ** 2\n",
        "print(f\"Samples: {n_samples} \\nDimensions: {n_dimensions}\")\n",
        "print(f\"It's a {int(sqrt(n_dimensions))}x{int(sqrt(n_dimensions))} image\")"
      ]
    },
    {
      "cell_type": "markdown",
      "metadata": {
        "id": "W_Qo-uGJxKvh"
      },
      "source": [
        "Its distribution:"
      ]
    },
    {
      "cell_type": "code",
      "execution_count": null,
      "metadata": {
        "colab": {
          "base_uri": "https://localhost:8080/",
          "height": 312
        },
        "id": "KSJJhKB_xNlN",
        "outputId": "2b2af255-a214-49ac-87f1-d2bc8bfd3ea6"
      },
      "outputs": [
        {
          "output_type": "execute_result",
          "data": {
            "text/plain": [
              "Text(0, 0.5, 'Number of pictures')"
            ]
          },
          "metadata": {},
          "execution_count": 5
        },
        {
          "output_type": "display_data",
          "data": {
            "text/plain": [
              "<Figure size 432x288 with 1 Axes>"
            ],
            "image/png": "[encoded data removed]"
          },
          "metadata": {
            "needs_background": "light"
          }
        }
      ],
      "source": [
        "target = pd.arrays.PandasArray(digits.target)\n",
        "\n",
        "target.value_counts().sort_index().plot.bar()\n",
        "plt.xticks(rotation=0, horizontalalignment=\"center\")\n",
        "plt.title(\"Number of pictures of each digit\")\n",
        "plt.xlabel(\"Digit\")\n",
        "plt.ylabel(\"Number of pictures\")"
      ]
    },
    {
      "cell_type": "markdown",
      "metadata": {
        "id": "fMiDy-RoxTZ-"
      },
      "source": [
        "---\n",
        "# Compute the K-*Means*"
      ]
    },
    {
      "cell_type": "markdown",
      "metadata": {
        "id": "njoggJv1xbAV"
      },
      "source": [
        "Get the 10 clusters"
      ]
    },
    {
      "cell_type": "code",
      "execution_count": null,
      "metadata": {
        "id": "1hMehsI6xcak"
      },
      "outputs": [],
      "source": [
        "# Data to use\n",
        "data = digits.data\n",
        "\n",
        "# Fit K-means with Scikit\n",
        "n = len(np.unique(target))\n",
        "model = KMeans(n_clusters=n, random_state=0)\n",
        "model.fit(data)\n",
        "\n",
        "# Indexes of the cluster each sample belongs to\n",
        "clusters = model.predict(data)"
      ]
    },
    {
      "cell_type": "markdown",
      "metadata": {
        "id": "3pKAZdySxea9"
      },
      "source": [
        "Label each cluster with their true labels. <br>\n",
        "This happens because k-means know nothing aboth the identity of each cluster, so the digits that appears more in each cluster is their label.\n",
        "\n",
        "<table>\n",
        "  <tr>\n",
        "    <th>Variable</th> <th>Values</th>\n",
        "  </tr>\n",
        "  <tr>\n",
        "    <td>cluster</td> <td>[1,2,3,4,5,5,0,...</td>\n",
        "  </tr>\n",
        "  <tr>\n",
        "    <td>i</td> <td>5</td>\n",
        "  </tr>\n",
        "  <tr>\n",
        "    <td>mask</td> <td>[F,F,F,F,T,T,F,...</td>\n",
        "  </tr>\n",
        "  <tr>\n",
        "    <td>target</td> <td>(0,0), (1,1), (2,2),...</td>\n",
        "  </tr>\n",
        "  <tr>\n",
        "    <td>target[mask]</td> <td>(4,4), (15,4), (16,4),...</td>\n",
        "  </tr>\n",
        "  <tr>\n",
        "    <td>labels[mask]</td> <td>[0,0,0,0,5,5,0,...</td>\n",
        "  </tr>\n",
        "</table>"
      ]
    },
    {
      "cell_type": "code",
      "execution_count": null,
      "metadata": {
        "id": "Vq9WQR0Yxdws",
        "colab": {
          "base_uri": "https://localhost:8080/"
        },
        "outputId": "3dd0a8e6-e9ac-4c37-e5bb-c49fcef364cc"
      },
      "outputs": [
        {
          "output_type": "stream",
          "name": "stdout",
          "text": [
            "Cluster Digit\n",
            "0       [4]\n",
            "1       [3]\n",
            "2       [5]\n",
            "3       [9]\n",
            "4       [7]\n",
            "5       [0]\n",
            "6       [1]\n",
            "7       [8]\n",
            "8       [2]\n",
            "9       [6]\n"
          ]
        }
      ],
      "source": [
        "# Save the label of each cluster\n",
        "labels = np.zeros_like(clusters)\n",
        "\n",
        "# Check the most repeated digit in each cluster and it will be the label\n",
        "# for that cluster\n",
        "for i in range(10):\n",
        "    mask = (clusters == i)\n",
        "    labels[mask] = mode(target[mask])[0]"
      ]
    },
    {
      "cell_type": "markdown",
      "metadata": {
        "id": "OszqaCNlxpTd"
      },
      "source": [
        "Visualize the cluster's center of each cluster"
      ]
    },
    {
      "cell_type": "code",
      "execution_count": null,
      "metadata": {
        "colab": {
          "base_uri": "https://localhost:8080/",
          "height": 197
        },
        "id": "tZmIkqblxmtD",
        "outputId": "667b734e-9b33-48c8-8389-30771ccbf38c"
      },
      "outputs": [
        {
          "output_type": "display_data",
          "data": {
            "text/plain": [
              "<Figure size 576x216 with 10 Axes>"
            ],
            "image/png": "[encoded data removed]"
          },
          "metadata": {}
        }
      ],
      "source": [
        "# Get centers\n",
        "dim = digits.dimension\n",
        "centers = model.cluster_centers_.reshape(n, dim, dim)\n",
        "\n",
        "# Draw each center\n",
        "fig, ax = plt.subplots(2, n//2, figsize=(8, 3))\n",
        "for axi, center in zip(ax.flat, centers):\n",
        "    axi.set(xticks=[], yticks=[])\n",
        "    axi.imshow(center, cmap=\"gray\")"
      ]
    },
    {
      "cell_type": "markdown",
      "metadata": {
        "id": "kdhCcmctxujB"
      },
      "source": [
        "Check the number of digits gotten in each cluster"
      ]
    },
    {
      "cell_type": "code",
      "execution_count": null,
      "metadata": {
        "colab": {
          "base_uri": "https://localhost:8080/",
          "height": 312
        },
        "id": "d34SLKGqxrqK",
        "outputId": "166d5006-48c5-4634-cbaa-55d1c80349f6"
      },
      "outputs": [
        {
          "output_type": "execute_result",
          "data": {
            "text/plain": [
              "Text(0, 0.5, 'Number of pictures')"
            ]
          },
          "metadata": {},
          "execution_count": 9
        },
        {
          "output_type": "display_data",
          "data": {
            "text/plain": [
              "<Figure size 432x288 with 1 Axes>"
            ],
            "image/png": "[encoded data removed]"
          },
          "metadata": {
            "needs_background": "light"
          }
        }
      ],
      "source": [
        "# Convert the output to Pandas array and get the number of data points in each cluster\n",
        "prediction = pd.arrays.PandasArray(labels)\n",
        "prediction.value_counts().sort_index().plot.bar(color=\"red\")\n",
        "\n",
        "# Show the bat plot\n",
        "plt.xticks(rotation=0, horizontalalignment=\"center\")\n",
        "plt.title(\"Number of digits in each cluster\")\n",
        "plt.xlabel(\"Digit\")\n",
        "plt.ylabel(\"Number of pictures\")"
      ]
    },
    {
      "cell_type": "markdown",
      "metadata": {
        "id": "wX3t25AJxyn1"
      },
      "source": [
        "---\n",
        "# Analize the data"
      ]
    },
    {
      "cell_type": "markdown",
      "metadata": {
        "id": "7f-wGfUbx4Lp"
      },
      "source": [
        "Get how many digits are in each cluster, vs the real amount"
      ]
    },
    {
      "cell_type": "code",
      "execution_count": null,
      "metadata": {
        "colab": {
          "base_uri": "https://localhost:8080/",
          "height": 312
        },
        "id": "z54NN9LTxxKz",
        "outputId": "8dea2d2b-a41b-4531-c402-512317585539"
      },
      "outputs": [
        {
          "output_type": "execute_result",
          "data": {
            "text/plain": [
              "Text(0, 0.5, 'Number of data points')"
            ]
          },
          "metadata": {},
          "execution_count": 10
        },
        {
          "output_type": "display_data",
          "data": {
            "text/plain": [
              "<Figure size 432x288 with 1 Axes>"
            ],
            "image/png": "[encoded data removed]"
          },
          "metadata": {
            "needs_background": "light"
          }
        }
      ],
      "source": [
        "# Get the number of pictures in for each number and convert it to numpy\n",
        "target_counts = target.value_counts().sort_index().to_numpy()\n",
        "prediction_counts = prediction.value_counts()\n",
        "\n",
        "# If a there is a digit with 0 items, add it with a total number of 0\n",
        "n_digits = 10\n",
        "for d in range(10):\n",
        "    if d not in prediction_counts.index:\n",
        "        prediction_counts.loc[d] = 0\n",
        "\n",
        "# DF with target and predictions for each number\n",
        "df = pd.DataFrame({'Real': target_counts,\n",
        "                   'Prediction': prediction_counts}, \n",
        "                  index = [i for i in range(10)])\n",
        "\n",
        "# Draw the plot\n",
        "df.plot.bar(rot=0)\n",
        "plt.xticks(rotation=0, horizontalalignment=\"center\")\n",
        "plt.title(\"Excepted vs obtained number of data points\")\n",
        "plt.xlabel(\"Digit\")\n",
        "plt.ylabel(\"Number of data points\")"
      ]
    },
    {
      "cell_type": "markdown",
      "metadata": {
        "id": "i10OiVUkx7Tt"
      },
      "source": [
        "Check an estimation of how many digits were correctly predicted"
      ]
    },
    {
      "cell_type": "code",
      "execution_count": null,
      "metadata": {
        "colab": {
          "base_uri": "https://localhost:8080/"
        },
        "id": "fksRO2LPx6Wn",
        "outputId": "838640b5-18de-4dfa-b365-096ff91438a4"
      },
      "outputs": [
        {
          "output_type": "stream",
          "name": "stdout",
          "text": [
            "Accuracy: 79.4%\n"
          ]
        }
      ],
      "source": [
        "# Get how accurate the prediction was\n",
        "accuracy = accuracy_score(target, prediction)\n",
        "print(f\"Accuracy: {accuracy * 100 :.1f}%\")"
      ]
    },
    {
      "cell_type": "markdown",
      "metadata": {
        "id": "z17hmXgix_i0"
      },
      "source": [
        "Check in which digits the error was more frecuent"
      ]
    },
    {
      "cell_type": "code",
      "execution_count": null,
      "metadata": {
        "colab": {
          "base_uri": "https://localhost:8080/",
          "height": 325
        },
        "id": "JHnR95OIx-zB",
        "outputId": "0a0a487c-3ffc-45e9-bb03-d0ddc42575bd"
      },
      "outputs": [
        {
          "output_type": "execute_result",
          "data": {
            "text/plain": [
              "Text(0.5, 0.98, 'Data points predicted vs their true label')"
            ]
          },
          "metadata": {},
          "execution_count": 12
        },
        {
          "output_type": "display_data",
          "data": {
            "text/plain": [
              "<Figure size 432x288 with 1 Axes>"
            ],
            "image/png": "[encoded data removed]"
          },
          "metadata": {
            "needs_background": "light"
          }
        }
      ],
      "source": [
        "# With a confusion matrix check the true label vs the predicted label\n",
        "disp = ConfusionMatrixDisplay.from_predictions(target, prediction, \n",
        "                                               cmap=plt.cm.Blues, \n",
        "                                               colorbar=False)\n",
        "\n",
        "# Draw the plot\n",
        "fig = disp.ax_.get_figure()\n",
        "fig.suptitle(\"Data points predicted vs their true label\")"
      ]
    },
    {
      "cell_type": "markdown",
      "metadata": {
        "id": "7s3Vpy7pyE4N"
      },
      "source": [
        "See how well the model performed\n",
        "\n",
        "> **Homogeneity:** each cluster contains only members of a single class.\n",
        "\n",
        "> **Completeness:** all members of a given class are assigned to the same cluster.\n",
        "\n",
        "> **V-measure:** the harmonic mean between homogeneity and completeness\n",
        "\n",
        "> **Rand index:** proportional to the number of sample pairs whose labels are the same in both labels_pred and labels_true or are different in both."
      ]
    },
    {
      "cell_type": "code",
      "execution_count": null,
      "metadata": {
        "colab": {
          "base_uri": "https://localhost:8080/"
        },
        "id": "N-_qKIUuyCuw",
        "outputId": "e4a27450-1216-4706-8885-9761ff9ee8dd"
      },
      "outputs": [
        {
          "output_type": "stream",
          "name": "stdout",
          "text": [
            "Homogeneity: 0.74%\n",
            "Completeness: 0.75%\n",
            "V-measure: 0.75%\n",
            "Rand Index: 0.67%\n"
          ]
        }
      ],
      "source": [
        "def bench_k_means(kmeans, targets, labels):\n",
        "    results = []\n",
        "    clustering_metrics = [homogeneity_score, completeness_score, \n",
        "                          v_measure_score, adjusted_rand_score]\n",
        "    # Compute each test\n",
        "    results += [test(targets, labels) for test in clustering_metrics]\n",
        "\n",
        "    return results\n",
        "\n",
        "\n",
        "results = bench_k_means(model, target, labels)\n",
        "tests = [\"Homogeneity\", \"Completeness\", \"V-measure\", \"Rand Index\"]\n",
        "\n",
        "for test, result in zip(tests, results):\n",
        "    print(f\"{test}: {result:.2f}%\")"
      ]
    },
    {
      "cell_type": "markdown",
      "metadata": {
        "id": "b0D_jiYyyJbg"
      },
      "source": [
        "**Inertia**: intra-cluter distance. Is the cluster compact or not. The less the better.\n",
        "\n",
        "**Silhouette Coefficient:** mean intra-cluster distance (a) and the mean nearest-cluster distance (b) for each sample. Best value is 1, worst is -1"
      ]
    },
    {
      "cell_type": "code",
      "execution_count": null,
      "metadata": {
        "id": "lenoPQ_XyI1s"
      },
      "outputs": [],
      "source": [
        "sum_of_squared_distances = []\n",
        "silhouette_scores = []\n",
        "for k in range(2, 15):\n",
        "    km = KMeans(n_clusters=k)\n",
        "    km = km.fit(data)\n",
        "    y = km.predict(data)\n",
        "    sum_of_squared_distances.append(km.inertia_)\n",
        "    silhouette_scores.append(silhouette_score(data, y))"
      ]
    },
    {
      "cell_type": "code",
      "execution_count": null,
      "metadata": {
        "colab": {
          "base_uri": "https://localhost:8080/",
          "height": 295
        },
        "id": "ErF5oTr1yWxU",
        "outputId": "e86ab7d8-d591-46f3-c6a5-43d2644ea9b3"
      },
      "outputs": [
        {
          "output_type": "display_data",
          "data": {
            "text/plain": [
              "<Figure size 432x288 with 1 Axes>"
            ],
            "image/png": "[encoded data removed]"
          },
          "metadata": {
            "needs_background": "light"
          }
        }
      ],
      "source": [
        "plt.plot(range(2, 15), sum_of_squared_distances, \"bx-\")\n",
        "plt.xlabel(\"Number of clusters\")\n",
        "plt.ylabel(\"Inertia\")\n",
        "plt.title(\"Inertia vs number of clusters\")\n",
        "plt.show()"
      ]
    },
    {
      "cell_type": "code",
      "execution_count": null,
      "metadata": {
        "colab": {
          "base_uri": "https://localhost:8080/",
          "height": 295
        },
        "id": "u0b_Ojx6yczY",
        "outputId": "2b238cf8-7363-4bf9-e358-4eac07d700d2"
      },
      "outputs": [
        {
          "output_type": "display_data",
          "data": {
            "text/plain": [
              "<Figure size 432x288 with 1 Axes>"
            ],
            "image/png": "[encoded data removed]"
          },
          "metadata": {
            "needs_background": "light"
          }
        }
      ],
      "source": [
        "plt.plot(range(2, 15), silhouette_scores, \"rx-\")\n",
        "plt.xlabel(\"Number of clusters\")\n",
        "plt.ylabel(\"Silhouette score\")\n",
        "plt.title(\"Silhouette score vs number of clusters\")\n",
        "plt.show()"
      ]
    },
    {
      "cell_type": "code",
      "execution_count": null,
      "metadata": {
        "id": "Tb_S8Oac0nc5"
      },
      "outputs": [],
      "source": []
    }
  ],
  "metadata": {
    "colab": {
      "provenance": []
    },
    "kernelspec": {
      "display_name": "Python 3",
      "name": "python3"
    },
    "language_info": {
      "name": "python"
    }
  },
  "nbformat": 4,
  "nbformat_minor": 0
}